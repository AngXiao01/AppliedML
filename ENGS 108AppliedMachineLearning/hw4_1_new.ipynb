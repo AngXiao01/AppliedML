{
 "cells": [
  {
   "cell_type": "markdown",
   "id": "4f48e653",
   "metadata": {},
   "source": [
    "# ENGS93: Statistical Methods in Engineering:\n",
    "## Homework 4\n",
    "\n",
    "---\n",
    "\n",
    "**IMPORTANT:**\n",
    "Your answers in R should be put in the input box below the question. Make sure to *File->Save and Checkpoint* your notebook in order to save your code answers as you go. Once you are finished, save your R notebook and submit it to Canvas alongside a pdf of your written work. \n",
    "\n",
    "Note: Each sub-question is worth 5 points.\n",
    "\n",
    "---\n",
    "\n",
    "\n",
    "**QUESTION 1:** This problem continues the scenario from R Exercise #2. We have provided the code in the input box below. Please run this box so the variables are created. This means you can access them as you complete the HW questions. "
   ]
  },
  {
   "cell_type": "code",
   "execution_count": 55,
   "id": "959bf929",
   "metadata": {},
   "outputs": [
    {
     "name": "stderr",
     "output_type": "stream",
     "text": [
      "Warning message in file(file, \"rt\"):\n",
      "“URL 'https://raw.githubusercontent.com/difuse-dartmouth/ENGS93/main/normtemp.txt': status was 'Couldn't resolve host name'”\n"
     ]
    },
    {
     "ename": "ERROR",
     "evalue": "Error in file(file, \"rt\"): cannot open the connection to 'https://raw.githubusercontent.com/difuse-dartmouth/ENGS93/main/normtemp.txt'\n",
     "output_type": "error",
     "traceback": [
      "Error in file(file, \"rt\"): cannot open the connection to 'https://raw.githubusercontent.com/difuse-dartmouth/ENGS93/main/normtemp.txt'\nTraceback:\n",
      "1. read.delim(\"https://raw.githubusercontent.com/difuse-dartmouth/ENGS93/main/normtemp.txt\", \n .     header = TRUE, sep = \"\\t\", dec = \".\")",
      "2. read.table(file = file, header = header, sep = sep, quote = quote, \n .     dec = dec, fill = fill, comment.char = comment.char, ...)",
      "3. file(file, \"rt\")"
     ]
    }
   ],
   "source": [
    "#RUN THIS CELL\n",
    "normtemp <- read.delim(\"https://raw.githubusercontent.com/difuse-dartmouth/ENGS93/main/normtemp.txt\", header = TRUE, sep = \"\\t\", dec = \".\")\n",
    "fat <- read.delim(\"https://raw.githubusercontent.com/difuse-dartmouth/ENGS93/main/fat.txt\", header = TRUE, sep = \"\\t\", dec = \".\")\n",
    "summary(normtemp)\n",
    "summary(fat)\n",
    "attach(normtemp)\n",
    "attach(fat)"
   ]
  },
  {
   "cell_type": "markdown",
   "id": "ec231169",
   "metadata": {},
   "source": [
    " ## Question 1 part a)\n",
    "\n",
    "Some have suggested that 98.2°F is a better value for the mean body temperature. Perform a hypothesis test of HO: μ = 98.2, H1: μ ≠ 98.2. Is the difference statistically significant at the 𝛼\n",
    "= 0.05 level? What is the p-value? Find the answer to this question both with and without using\n",
    "the command ```t.test( . )``` and compare the two answers as before."
   ]
  },
  {
   "cell_type": "code",
   "execution_count": 56,
   "id": "f129230b",
   "metadata": {},
   "outputs": [
    {
     "data": {
      "text/plain": [
       "\n",
       "\tOne Sample t-test\n",
       "\n",
       "data:  temperature\n",
       "t = 0.76559, df = 129, p-value = 0.4453\n",
       "alternative hypothesis: true mean is not equal to 98.2\n",
       "95 percent confidence interval:\n",
       " 98.12200 98.37646\n",
       "sample estimates:\n",
       "mean of x \n",
       " 98.24923 \n"
      ]
     },
     "metadata": {},
     "output_type": "display_data"
    }
   ],
   "source": [
    "t.test(temperature,mu=98.2,alt=\"two.sided\")"
   ]
  },
  {
   "cell_type": "code",
   "execution_count": 46,
   "id": "d8287352",
   "metadata": {},
   "outputs": [
    {
     "data": {
      "text/html": [
       "0.443920752387508"
      ],
      "text/latex": [
       "0.443920752387508"
      ],
      "text/markdown": [
       "0.443920752387508"
      ],
      "text/plain": [
       "[1] 0.4439208"
      ]
     },
     "metadata": {},
     "output_type": "display_data"
    },
    {
     "data": {
      "text/html": [
       "0.445319249996802"
      ],
      "text/latex": [
       "0.445319249996802"
      ],
      "text/markdown": [
       "0.445319249996802"
      ],
      "text/plain": [
       "[1] 0.4453192"
      ]
     },
     "metadata": {},
     "output_type": "display_data"
    }
   ],
   "source": [
    "xbar_temperature = mean(temperature)\n",
    "len_temperature = length(temperature)\n",
    "var_temperature = var(temperature)\n",
    "t = (xbar_temperature-98.2)/((var_temperature/len_temperature)^(1/2))\n",
    "\n",
    "2*(1-pnorm(t))\n",
    "2*(1-pt(t, n-1, lower.tail=TRUE)) #t-test for better calcalation"
   ]
  },
  {
   "cell_type": "code",
   "execution_count": 57,
   "id": "6ee36501",
   "metadata": {},
   "outputs": [
    {
     "ename": "ERROR",
     "evalue": "Error in parse(text = x, srcfile = src): <text>:1:7: unexpected symbol\n1: There is\n          ^\n",
     "output_type": "error",
     "traceback": [
      "Error in parse(text = x, srcfile = src): <text>:1:7: unexpected symbol\n1: There is\n          ^\nTraceback:\n"
     ]
    }
   ],
   "source": [
    "There is no significant difference because p-value=0.445319249996802 > 𝛼 = 0.05"
   ]
  },
  {
   "attachments": {
    "snippsisan.JPG": {
     "image/jpeg": "[encoded data removed]"
    }
   },
   "cell_type": "markdown",
   "id": "33b61370",
   "metadata": {},
   "source": [
    "## Question 1 part b)\n",
    "\n",
    "Do females have a different body temperature than males? We will answer this by using a\n",
    "hypothesis test on the difference between two means. Extract the temperatures for just the\n",
    "females and males in the study with the following commands: \n",
    "\n",
    ">```females = temperature[gender == 1]```\n",
    "\n",
    ">```males = temperature[gender == 2]```\n",
    "\n",
    "You can use the formula:![snippsisan.JPG](attachment:snippsisan.JPG). \n",
    "\n",
    "Clearly state and test the appropriate hypotheses\n",
    "using step-by-step R calculations. Clearly state your conclusion."
   ]
  },
  {
   "cell_type": "code",
   "execution_count": 61,
   "id": "022de857",
   "metadata": {},
   "outputs": [
    {
     "data": {
      "text/html": [
       "0.0222873607606576"
      ],
      "text/latex": [
       "0.0222873607606576"
      ],
      "text/markdown": [
       "0.0222873607606576"
      ],
      "text/plain": [
       "[1] 0.02228736"
      ]
     },
     "metadata": {},
     "output_type": "display_data"
    }
   ],
   "source": [
    "females = temperature[gender == 1]\n",
    "males = temperature[gender == 2]\n",
    "xbar_female = mean(females)\n",
    "xbar_male = mean(males)\n",
    "var_female = var(females)\n",
    "var_male = var(males)\n",
    "len_female = length(females)\n",
    "len_male = length(males)\n",
    "z = (xbar_female-xbar_male)/(var_female/len_female+var_male/len_male)^(1/2)\n",
    "2*pnorm(z)\n"
   ]
  },
  {
   "cell_type": "raw",
   "id": "44828746",
   "metadata": {},
   "source": [
    "H0: there 5is no difference in body temperature between males and females.\n",
    "    Base on 95% confidence level, females have a different body temperature than males."
   ]
  },
  {
   "cell_type": "markdown",
   "id": "57acdf30",
   "metadata": {},
   "source": [
    "## Question 1 part c)\n",
    "\n",
    "The body mass index, BMI, is a measurement of weight divided by height squared (both in\n",
    "metric units). “Normal” values are in the range [18.5, 25]. Perform a significance test to see\n",
    "whether the mean BMI is at most 25 versus an alternate that it is greater.\n"
   ]
  },
  {
   "cell_type": "code",
   "execution_count": 48,
   "id": "9ec8b0be",
   "metadata": {},
   "outputs": [
    {
     "data": {
      "text/html": [
       "0.0286404255503295"
      ],
      "text/latex": [
       "0.0286404255503295"
      ],
      "text/markdown": [
       "0.0286404255503295"
      ],
      "text/plain": [
       "[1] 0.02864043"
      ]
     },
     "metadata": {},
     "output_type": "display_data"
    },
    {
     "data": {
      "text/plain": [
       "\n",
       "\tOne Sample t-test\n",
       "\n",
       "data:  BMI\n",
       "t = 1.9012, df = 251, p-value = 0.02921\n",
       "alternative hypothesis: true mean is greater than 25\n",
       "95 percent confidence interval:\n",
       " 25.0575     Inf\n",
       "sample estimates:\n",
       "mean of x \n",
       "  25.4369 \n"
      ]
     },
     "metadata": {},
     "output_type": "display_data"
    }
   ],
   "source": [
    "xbar_BMI=mean(BMI)\n",
    "len_BMI=length(BMI)\n",
    "var_BMI=var(BMI)\n",
    "z = (xbar_BMI-25)/(var_BMI/len_BMI)^(1/2)\n",
    "1-pnorm(z)\n",
    "\n",
    "t.test(BMI,mu=25,alt=\"greater\")"
   ]
  },
  {
   "cell_type": "markdown",
   "id": "01dbac1d",
   "metadata": {},
   "source": [
    ">i. First, write down the null and alternate hypotheses. (1 point)"
   ]
  },
  {
   "cell_type": "markdown",
   "id": "0e229c6f",
   "metadata": {},
   "source": [
    "Null hypothesis: the smaple mean of BMI is equal or less than 25\n",
    "\\\n",
    "Alternate hypothesis: the sample mean of BMI is greater than 25"
   ]
  },
  {
   "cell_type": "markdown",
   "id": "4db90b24",
   "metadata": {},
   "source": [
    ">ii. What is the p-value? (2 points)"
   ]
  },
  {
   "cell_type": "markdown",
   "id": "3d126897",
   "metadata": {},
   "source": [
    " p-value = 0.02921"
   ]
  },
  {
   "cell_type": "markdown",
   "id": "6709fc70",
   "metadata": {},
   "source": [
    "> iii. Is the difference statistically significant?"
   ]
  },
  {
   "cell_type": "markdown",
   "id": "fa4d3cba",
   "metadata": {},
   "source": [
    "Yeah. Since p-value = 0.02921 < 0.05, the different is significant"
   ]
  },
  {
   "cell_type": "markdown",
   "id": "c719c7df",
   "metadata": {},
   "source": [
    "## Question 1 part d)\n",
    "\n",
    "The comparison of body temperatures between males and females that you performed above can also be implemented directly using t.test( ) and specifying two variables males and females created above ```t.test(males, females, alt=\"two.sided\")```.\n",
    "\n",
    "Perform the hypothesis test  with the command above. How do the results  compare to your step-by-step  solution  above  in  part  b?  How  do  the  results  differ  if  you  use ```alt=\"less\"```? What about ```alt=\"greater\"```? What happens if you reverse the order of the variables male and female?"
   ]
  },
  {
   "cell_type": "code",
   "execution_count": 49,
   "id": "02ed8206",
   "metadata": {},
   "outputs": [
    {
     "data": {
      "text/plain": [
       "\n",
       "\tWelch Two Sample t-test\n",
       "\n",
       "data:  males and females\n",
       "t = 2.2854, df = 127.51, p-value = 0.02394\n",
       "alternative hypothesis: true difference in means is not equal to 0\n",
       "95 percent confidence interval:\n",
       " 0.03881298 0.53964856\n",
       "sample estimates:\n",
       "mean of x mean of y \n",
       " 98.39385  98.10462 \n"
      ]
     },
     "metadata": {},
     "output_type": "display_data"
    },
    {
     "data": {
      "text/plain": [
       "\n",
       "\tWelch Two Sample t-test\n",
       "\n",
       "data:  males and females\n",
       "t = 2.2854, df = 127.51, p-value = 0.988\n",
       "alternative hypothesis: true difference in means is less than 0\n",
       "95 percent confidence interval:\n",
       "      -Inf 0.4989169\n",
       "sample estimates:\n",
       "mean of x mean of y \n",
       " 98.39385  98.10462 \n"
      ]
     },
     "metadata": {},
     "output_type": "display_data"
    },
    {
     "data": {
      "text/plain": [
       "\n",
       "\tWelch Two Sample t-test\n",
       "\n",
       "data:  males and females\n",
       "t = 2.2854, df = 127.51, p-value = 0.01197\n",
       "alternative hypothesis: true difference in means is greater than 0\n",
       "95 percent confidence interval:\n",
       " 0.07954459        Inf\n",
       "sample estimates:\n",
       "mean of x mean of y \n",
       " 98.39385  98.10462 \n"
      ]
     },
     "metadata": {},
     "output_type": "display_data"
    },
    {
     "data": {
      "text/plain": [
       "\n",
       "\tWelch Two Sample t-test\n",
       "\n",
       "data:  females and males\n",
       "t = -2.2854, df = 127.51, p-value = 0.02394\n",
       "alternative hypothesis: true difference in means is not equal to 0\n",
       "95 percent confidence interval:\n",
       " -0.53964856 -0.03881298\n",
       "sample estimates:\n",
       "mean of x mean of y \n",
       " 98.10462  98.39385 \n"
      ]
     },
     "metadata": {},
     "output_type": "display_data"
    }
   ],
   "source": [
    "t.test(males, females, alt=\"two.sided\")\n",
    "t.test(males, females, alt=\"less\")\n",
    "t.test(males, females, alt=\"greater\")\n",
    "t.test(females, males, alt=\"two.sided\")"
   ]
  },
  {
   "cell_type": "markdown",
   "id": "ca32a91e",
   "metadata": {},
   "source": [
    "p-value in b is 0.0286 which is similar but bigger to the p-value in d which is 0.02394. \n",
    "Using alt=\"less\" calculate the probability of the left hand side of the z-score. \n",
    "Using alt=\"greater\" calculates the probability of the right hand side of the z-score.\n",
    "If reverse the order of the variables male and female, the confidence interval is symmetric with the original confidence level."
   ]
  },
  {
   "cell_type": "markdown",
   "id": "03306b33",
   "metadata": {},
   "source": [
    "Note that an alternative syntax (the model formula syntax) can be used for performing a two-sample test when there is one variable (gender) used to indicate a level of some factor for a subject. (These variables are referred to as indicator variables.) Thet-test above, may be carried out with the syntax: ```t.test(temperature ~ gender)```"
   ]
  },
  {
   "cell_type": "code",
   "execution_count": 59,
   "id": "ddcbdfd1",
   "metadata": {},
   "outputs": [
    {
     "data": {
      "text/plain": [
       "\n",
       "\tWelch Two Sample t-test\n",
       "\n",
       "data:  temperature by gender\n",
       "t = -2.2854, df = 127.51, p-value = 0.02394\n",
       "alternative hypothesis: true difference in means is not equal to 0\n",
       "95 percent confidence interval:\n",
       " -0.53964856 -0.03881298\n",
       "sample estimates:\n",
       "mean in group 1 mean in group 2 \n",
       "       98.10462        98.39385 \n"
      ]
     },
     "metadata": {},
     "output_type": "display_data"
    }
   ],
   "source": [
    "t.test(temperature ~ gender)"
   ]
  },
  {
   "cell_type": "markdown",
   "id": "9dd6ccaa",
   "metadata": {},
   "source": [
    "We will use this type of syntax in the future for regression analysis and ANOVA models. You can verify that using the model formula above gives the same output and also that the default value for ```alt=``` is ```\"two.sided\"```."
   ]
  },
  {
   "cell_type": "code",
   "execution_count": 60,
   "id": "f6bef799",
   "metadata": {},
   "outputs": [
    {
     "data": {
      "text/plain": [
       "\n",
       "\tWelch Two Sample t-test\n",
       "\n",
       "data:  temperature by gender\n",
       "t = -2.2854, df = 127.51, p-value = 0.02394\n",
       "alternative hypothesis: true difference in means is not equal to 0\n",
       "95 percent confidence interval:\n",
       " -0.53964856 -0.03881298\n",
       "sample estimates:\n",
       "mean in group 1 mean in group 2 \n",
       "       98.10462        98.39385 \n"
      ]
     },
     "metadata": {},
     "output_type": "display_data"
    }
   ],
   "source": [
    "t.test(temperature ~ gender, alt = \"two.sided\")"
   ]
  },
  {
   "cell_type": "code",
   "execution_count": null,
   "id": "024d7b70",
   "metadata": {},
   "outputs": [],
   "source": []
  }
 ],
 "metadata": {
  "kernelspec": {
   "display_name": "R",
   "language": "R",
   "name": "ir"
  },
  "language_info": {
   "codemirror_mode": "r",
   "file_extension": ".r",
   "mimetype": "text/x-r-source",
   "name": "R",
   "pygments_lexer": "r",
   "version": "3.6.1"
  },
  "toc": {
   "base_numbering": 1,
   "nav_menu": {},
   "number_sections": true,
   "sideBar": true,
   "skip_h1_title": false,
   "title_cell": "Table of Contents",
   "title_sidebar": "Contents",
   "toc_cell": false,
   "toc_position": {},
   "toc_section_display": true,
   "toc_window_display": false
  }
 },
 "nbformat": 4,
 "nbformat_minor": 5
}
