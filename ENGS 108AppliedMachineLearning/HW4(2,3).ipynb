{
 "cells": [
  {
   "cell_type": "raw",
   "id": "03f785df",
   "metadata": {},
   "source": [
    "2. The Patient Protection and Affordable Care Act (PPACA), commonly known as just Affordable Care Act, attempts to reduce the total cost of healthcare in the US while improving the treatment effectiveness. A number of aspects of the law have been in effect for several years by now. In order to evaluate the performance of the US hospitals both before and after the implementation of the law, data was collected from a number of hospitals in the states of New York and New Jersey from time periods before and after the implementation of the law. This data is posted as an Excel file on Canvas. You can use Excel or r instead of a simple calculator to perform the arithmetic calculations faster, if you prefer."
   ]
  },
  {
   "cell_type": "code",
   "execution_count": 67,
   "id": "b0cf7c14",
   "metadata": {},
   "outputs": [],
   "source": [
    "library(\"xlsx\")"
   ]
  },
  {
   "cell_type": "code",
   "execution_count": 68,
   "id": "33427bc5",
   "metadata": {},
   "outputs": [],
   "source": [
    "data <- read.xlsx(\"HW4_Data.xlsx\", sheetIndex = 1)"
   ]
  },
  {
   "cell_type": "code",
   "execution_count": 70,
   "id": "a4a8ea2b",
   "metadata": {},
   "outputs": [
    {
     "data": {
      "text/html": [
       "'/Users/xiaoang/Desktop'"
      ],
      "text/latex": [
       "'/Users/xiaoang/Desktop'"
      ],
      "text/markdown": [
       "'/Users/xiaoang/Desktop'"
      ],
      "text/plain": [
       "[1] \"/Users/xiaoang/Desktop\""
      ]
     },
     "metadata": {},
     "output_type": "display_data"
    },
    {
     "data": {
      "text/plain": [
       " State   Before.After ReadmissionRate    CostPerStay      LengthOfStay   \n",
       " NJ:55   After :54    Min.   :0.04076   Min.   : 689.5   Min.   : 1.180  \n",
       " NY:45   Before:46    1st Qu.:0.14602   1st Qu.:1679.1   1st Qu.: 2.638  \n",
       "                      Median :0.22608   Median :2372.5   Median : 3.606  \n",
       "                      Mean   :0.23249   Mean   :3192.3   Mean   : 4.626  \n",
       "                      3rd Qu.:0.32159   3rd Qu.:4091.2   3rd Qu.: 6.073  \n",
       "                      Max.   :0.47262   Max.   :9950.4   Max.   :13.187  \n",
       "   NA.           NA..1          NA..2        \n",
       " Mode:logical   Mode:logical   Mode:logical  \n",
       " NA's:100       NA's:100       NA's:100      \n",
       "                                             \n",
       "                                             \n",
       "                                             \n",
       "                                             "
      ]
     },
     "metadata": {},
     "output_type": "display_data"
    },
    {
     "name": "stderr",
     "output_type": "stream",
     "text": [
      "The following objects are masked from data (pos = 3):\n",
      "\n",
      "    Before.After, CostPerStay, LengthOfStay, NA., NA..1, NA..2,\n",
      "    ReadmissionRate, State\n",
      "\n",
      "\n",
      "The following objects are masked from data (pos = 4):\n",
      "\n",
      "    Before.After, CostPerStay, LengthOfStay, NA., NA..1, NA..2,\n",
      "    ReadmissionRate, State\n",
      "\n",
      "\n",
      "The following objects are masked from data (pos = 5):\n",
      "\n",
      "    Before.After, CostPerStay, LengthOfStay, NA., NA..1, NA..2,\n",
      "    ReadmissionRate, State\n",
      "\n",
      "\n",
      "The following objects are masked from data (pos = 6):\n",
      "\n",
      "    Before.After, CostPerStay, LengthOfStay, NA., NA..1, NA..2,\n",
      "    ReadmissionRate, State\n",
      "\n",
      "\n",
      "The following objects are masked from data (pos = 7):\n",
      "\n",
      "    Before.After, CostPerStay, LengthOfStay, NA., NA..1, NA..2,\n",
      "    ReadmissionRate, State\n",
      "\n",
      "\n",
      "The following objects are masked from data (pos = 8):\n",
      "\n",
      "    Before.After, CostPerStay, LengthOfStay, NA., NA..1, NA..2,\n",
      "    ReadmissionRate, State\n",
      "\n",
      "\n"
     ]
    }
   ],
   "source": [
    "system(\"pwd\", intern=TRUE)\n",
    "summary(data)\n",
    "attach(data)"
   ]
  },
  {
   "cell_type": "code",
   "execution_count": 71,
   "id": "9c1d3e4a",
   "metadata": {},
   "outputs": [
    {
     "data": {
      "text/html": [
       "<table>\n",
       "<thead><tr><th scope=col>State</th><th scope=col>Before.After</th><th scope=col>ReadmissionRate</th><th scope=col>CostPerStay</th><th scope=col>LengthOfStay</th><th scope=col>NA.</th><th scope=col>NA..1</th><th scope=col>NA..2</th></tr></thead>\n",
       "<tbody>\n",
       "\t<tr><td>NY        </td><td>Before    </td><td>0.32530114</td><td>1981.960  </td><td>1.499839  </td><td>NA        </td><td>NA        </td><td>NA        </td></tr>\n",
       "\t<tr><td>NY        </td><td>Before    </td><td>0.12586529</td><td>3435.379  </td><td>3.191824  </td><td>NA        </td><td>NA        </td><td>NA        </td></tr>\n",
       "\t<tr><td>NY        </td><td>Before    </td><td>0.16525542</td><td>3165.399  </td><td>8.712313  </td><td>NA        </td><td>NA        </td><td>NA        </td></tr>\n",
       "\t<tr><td>NY        </td><td>Before    </td><td>0.32251283</td><td>5293.075  </td><td>3.550049  </td><td>NA        </td><td>NA        </td><td>NA        </td></tr>\n",
       "\t<tr><td>NY        </td><td>Before    </td><td>0.25978657</td><td>6186.127  </td><td>2.650120  </td><td>NA        </td><td>NA        </td><td>NA        </td></tr>\n",
       "\t<tr><td>NY        </td><td>Before    </td><td>0.06341611</td><td>2608.703  </td><td>4.656540  </td><td>NA        </td><td>NA        </td><td>NA        </td></tr>\n",
       "</tbody>\n",
       "</table>\n"
      ],
      "text/latex": [
       "\\begin{tabular}{r|llllllll}\n",
       " State & Before.After & ReadmissionRate & CostPerStay & LengthOfStay & NA. & NA..1 & NA..2\\\\\n",
       "\\hline\n",
       "\t NY         & Before     & 0.32530114 & 1981.960   & 1.499839   & NA         & NA         & NA        \\\\\n",
       "\t NY         & Before     & 0.12586529 & 3435.379   & 3.191824   & NA         & NA         & NA        \\\\\n",
       "\t NY         & Before     & 0.16525542 & 3165.399   & 8.712313   & NA         & NA         & NA        \\\\\n",
       "\t NY         & Before     & 0.32251283 & 5293.075   & 3.550049   & NA         & NA         & NA        \\\\\n",
       "\t NY         & Before     & 0.25978657 & 6186.127   & 2.650120   & NA         & NA         & NA        \\\\\n",
       "\t NY         & Before     & 0.06341611 & 2608.703   & 4.656540   & NA         & NA         & NA        \\\\\n",
       "\\end{tabular}\n"
      ],
      "text/markdown": [
       "\n",
       "| State | Before.After | ReadmissionRate | CostPerStay | LengthOfStay | NA. | NA..1 | NA..2 |\n",
       "|---|---|---|---|---|---|---|---|\n",
       "| NY         | Before     | 0.32530114 | 1981.960   | 1.499839   | NA         | NA         | NA         |\n",
       "| NY         | Before     | 0.12586529 | 3435.379   | 3.191824   | NA         | NA         | NA         |\n",
       "| NY         | Before     | 0.16525542 | 3165.399   | 8.712313   | NA         | NA         | NA         |\n",
       "| NY         | Before     | 0.32251283 | 5293.075   | 3.550049   | NA         | NA         | NA         |\n",
       "| NY         | Before     | 0.25978657 | 6186.127   | 2.650120   | NA         | NA         | NA         |\n",
       "| NY         | Before     | 0.06341611 | 2608.703   | 4.656540   | NA         | NA         | NA         |\n",
       "\n"
      ],
      "text/plain": [
       "  State Before.After ReadmissionRate CostPerStay LengthOfStay NA. NA..1 NA..2\n",
       "1 NY    Before       0.32530114      1981.960    1.499839     NA  NA    NA   \n",
       "2 NY    Before       0.12586529      3435.379    3.191824     NA  NA    NA   \n",
       "3 NY    Before       0.16525542      3165.399    8.712313     NA  NA    NA   \n",
       "4 NY    Before       0.32251283      5293.075    3.550049     NA  NA    NA   \n",
       "5 NY    Before       0.25978657      6186.127    2.650120     NA  NA    NA   \n",
       "6 NY    Before       0.06341611      2608.703    4.656540     NA  NA    NA   "
      ]
     },
     "metadata": {},
     "output_type": "display_data"
    }
   ],
   "source": [
    "head(data)"
   ]
  },
  {
   "cell_type": "raw",
   "id": "acf71093",
   "metadata": {},
   "source": [
    "a. The mean readmission rate in the entire US was found to be 0.2200 before the law came into effect. Can the data from these two states be used to conclude that the readmission rate for NY and NJ hospitals is different from the overall US hospital population? Analyze the data for the two states separately. State your hypotheses and list any necessary assumptions clearly. Calculate the appropriate test statistic, report the p-value and give your conclusion based on a 5% significance level."
   ]
  },
  {
   "cell_type": "code",
   "execution_count": 81,
   "id": "939277c0",
   "metadata": {},
   "outputs": [
    {
     "data": {
      "text/html": [
       "0.137769904123285"
      ],
      "text/latex": [
       "0.137769904123285"
      ],
      "text/markdown": [
       "0.137769904123285"
      ],
      "text/plain": [
       "[1] 0.1377699"
      ]
     },
     "metadata": {},
     "output_type": "display_data"
    },
    {
     "data": {
      "text/html": [
       "0.0239995088559251"
      ],
      "text/latex": [
       "0.0239995088559251"
      ],
      "text/markdown": [
       "0.0239995088559251"
      ],
      "text/plain": [
       "[1] 0.02399951"
      ]
     },
     "metadata": {},
     "output_type": "display_data"
    },
    {
     "data": {
      "text/plain": [
       "\n",
       "\tOne Sample t-test\n",
       "\n",
       "data:  NYRRB\n",
       "t = -1.5333, df = 19, p-value = 0.1417\n",
       "alternative hypothesis: true mean is not equal to 0.22\n",
       "95 percent confidence interval:\n",
       " 0.1478263 0.2311409\n",
       "sample estimates:\n",
       "mean of x \n",
       "0.1894836 \n"
      ]
     },
     "metadata": {},
     "output_type": "display_data"
    },
    {
     "data": {
      "text/plain": [
       "\n",
       "\tOne Sample t-test\n",
       "\n",
       "data:  NJRRB\n",
       "t = 2.453, df = 25, p-value = 0.02149\n",
       "alternative hypothesis: true mean is not equal to 0.22\n",
       "95 percent confidence interval:\n",
       " 0.2278693 0.3102597\n",
       "sample estimates:\n",
       "mean of x \n",
       "0.2690645 \n"
      ]
     },
     "metadata": {},
     "output_type": "display_data"
    }
   ],
   "source": [
    "NYRRB = ReadmissionRate[State == \"NY\" & Before.After == \"Before\"]\n",
    "NJRRB = ReadmissionRate[State == \"NJ\" & Before.After == \"Before\"]\n",
    "len_nyrrb=length(NYRRB)\n",
    "len_njrrb=length(NJRRB)\n",
    "mean_nyrrb = mean(NYRRB)\n",
    "var_nyrrb = var(NYRRB)\n",
    "mean_njrrb = mean(NJRRB)\n",
    "var_njrrb = var(NJRRB)\n",
    "\n",
    "z_ny=(mean_nyrrb-0.22)/((var_nyrrb/len_nyrrb)^(1/2))\n",
    "2*pt(z_ny, df = len_njrrb-1)\n",
    "\n",
    "\n",
    "z_nj=(mean_njrrb-0.22)/((var_njrrb/len_njrrb)^(1/2))\n",
    "2*(1-pt(z_nj, df = len_nyrrb-1))\n",
    "\n",
    "t.test(NYRRB,mu=0.22,alt=\"two.sided\")\n",
    "t.test(NJRRB,mu=0.22,alt=\"two.sided\")"
   ]
  },
  {
   "cell_type": "raw",
   "id": "9b8adaf3",
   "metadata": {},
   "source": [
    "H0: \n",
    "Before the law, there is no significant difference for NY hospitals on the readmission rate comparing to the overall US hospital population\n",
    "\n",
    "Assumption: \n",
    "Assume that distributio of the samples is normal.\n",
    "\n",
    "Results:\n",
    "Before the law\n",
    "Base on 5% significance level, there is no difference for NY hospitals on the readmission rate comparing to the overall US hospital population.\n",
    "\n",
    "Before the law\n",
    "Base on 5% significance level, there is a difference for NY hospitals on the readmission rate comparing to the overall US hospital population."
   ]
  },
  {
   "cell_type": "raw",
   "id": "2aaf3954",
   "metadata": {},
   "source": [
    "b. Repeat part (a), but use the data from the entire NY-NJ region together. Be sure to list the assumptions again, checking if any of the assumptions are different from those made in part (a).\n"
   ]
  },
  {
   "cell_type": "code",
   "execution_count": 76,
   "id": "8910ccee",
   "metadata": {},
   "outputs": [
    {
     "data": {
      "text/plain": [
       "\n",
       "\tOne Sample t-test\n",
       "\n",
       "data:  RRB\n",
       "t = 0.94771, df = 45, p-value = 0.3483\n",
       "alternative hypothesis: true mean is not equal to 0.22\n",
       "95 percent confidence interval:\n",
       " 0.2037244 0.2652038\n",
       "sample estimates:\n",
       "mean of x \n",
       "0.2344641 \n"
      ]
     },
     "metadata": {},
     "output_type": "display_data"
    }
   ],
   "source": [
    "RRB = ReadmissionRate[Before.After == \"Before\"]\n",
    "t.test(RRB,mu=0.22,alt=\"two.sided\")"
   ]
  },
  {
   "cell_type": "raw",
   "id": "85b7a535",
   "metadata": {},
   "source": [
    "n=46>30, this is a large sample.\n",
    "H0: \n",
    "Before the law\n",
    "THere is no difference for NY-NJ hospitals on the readmission rate comparing to the overall US hospital population.\n",
    "\n",
    "Results:\n",
    "There is no difference for NY-NJ hospitals on the readmission rate comparing to the overall US hospital population."
   ]
  },
  {
   "cell_type": "raw",
   "id": "47e582f5",
   "metadata": {},
   "source": [
    "c. Is there a difference in cost per stay between NY and NJ hospitals? State your hypotheses, list all necessary assumptions, calculate the appropriate test statistic, report your p-value, and give your conclusion based on a 10% significance level."
   ]
  },
  {
   "cell_type": "code",
   "execution_count": 82,
   "id": "955ab283",
   "metadata": {},
   "outputs": [
    {
     "data": {
      "text/plain": [
       "\n",
       "\tWelch Two Sample t-test\n",
       "\n",
       "data:  CNYB and CNJA\n",
       "t = 1.497, df = 42.546, p-value = 0.1418\n",
       "alternative hypothesis: true difference in means is not equal to 0\n",
       "95 percent confidence interval:\n",
       " -351.5711 2374.7106\n",
       "sample estimates:\n",
       "mean of x mean of y \n",
       "  4288.06   3276.49 \n"
      ]
     },
     "metadata": {},
     "output_type": "display_data"
    },
    {
     "data": {
      "text/plain": [
       "\n",
       "\tWelch Two Sample t-test\n",
       "\n",
       "data:  CNYA and CNJB\n",
       "t = -0.92723, df = 39.263, p-value = 0.3595\n",
       "alternative hypothesis: true difference in means is not equal to 0\n",
       "95 percent confidence interval:\n",
       " -1644.9761   610.7118\n",
       "sample estimates:\n",
       "mean of x mean of y \n",
       " 2451.158  2968.290 \n"
      ]
     },
     "metadata": {},
     "output_type": "display_data"
    }
   ],
   "source": [
    "CNYB = CostPerStay[State == \"NY\" & Before.After == \"Before\"]\n",
    "CNJB = CostPerStay[State == \"NJ\" & Before.After == \"Before\"]\n",
    "\n",
    "CNYA = CostPerStay[State == \"NY\" & Before.After == \"After\"]\n",
    "CNJA = CostPerStay[State == \"NJ\" & Before.After == \"After\"]\n",
    "\n",
    "t.test(CNYB, CNJA, alt=\"two.sided\")\n",
    "t.test(CNYA, CNJB, alt=\"two.sided\")"
   ]
  },
  {
   "cell_type": "raw",
   "id": "f179f48e",
   "metadata": {},
   "source": [
    "Assumption: the distribution of samples is normal.\n",
    "\n",
    "Before the law\n",
    "H0: \n",
    "there is no significant difference in cost between NY and NJ hospitals.\n",
    "Results:\n",
    "There is a difference in cost per stay between NY and NJ hospitals at 10% significance level because p-value = 0.06 < 0.1.\n",
    "\n",
    "After the law\n",
    "H0: \n",
    "there is no significant difference in cost between NY and NJ hospitals .\n",
    "Results:\n",
    "Based on 10% significance level because p-value = 0.12 > 0.1.\n",
    "There is no difference in cost per stay between NY and NJ hospitals.\n",
    "\n"
   ]
  },
  {
   "cell_type": "raw",
   "id": "b8d19b91",
   "metadata": {},
   "source": [
    "d. Can you conclude that the mean cost per stay in the NY-NJ region as a whole decreased after the law was enacted? State your hypotheses, clearly list any necessary assumptions, calculate the appropriate test statistic, report the p-value, and give your conclusions based on a 10% significance level."
   ]
  },
  {
   "cell_type": "code",
   "execution_count": 64,
   "id": "3869b40b",
   "metadata": {},
   "outputs": [
    {
     "data": {
      "text/plain": [
       "\n",
       "\tWelch Two Sample t-test\n",
       "\n",
       "data:  CB and CA\n",
       "t = 1.4258, df = 87.25, p-value = 0.07874\n",
       "alternative hypothesis: true difference in means is greater than 0\n",
       "95 percent confidence interval:\n",
       " -107.5132       Inf\n",
       "sample estimates:\n",
       "mean of x mean of y \n",
       " 3542.103  2894.392 \n"
      ]
     },
     "metadata": {},
     "output_type": "display_data"
    }
   ],
   "source": [
    "CB = CostPerStay[Before.After == \"Before\"]\n",
    "CA = CostPerStay[Before.After == \"After\"]\n",
    "t.test(CB, CA, alt=\"greater\")"
   ]
  },
  {
   "cell_type": "raw",
   "id": "5e2c068c",
   "metadata": {},
   "source": [
    "H0:\n",
    "The mean cost per stay in the NY-NJ region as a whole does not decrease after the law was enacted.\n",
    "\n",
    "Result:\n",
    "p-value = 0.07874 < 0.1, \n",
    "\n",
    "Based on a 10% significance level, we can conclude that the mean cost per stay in the NY-NJ region as a whole decreased after the law was enacted."
   ]
  },
  {
   "cell_type": "raw",
   "id": "ce13cb65",
   "metadata": {},
   "source": [
    "3. The following figure provides a histogram of the winning teams’ scores in the first 51 Superbowls, i.e., the American Football Championship Games. Average winning score was 30.2 and standard deviation was 9.6, across these 51 data points.\n",
    "a. Let us assume that this can be considered to be a simple random sample from the conceptual population of infinite number of possible superbowls that could have been played. Find the p-value for a hypothesis test that might conclude that the population mean is more than 28."
   ]
  },
  {
   "cell_type": "code",
   "execution_count": 80,
   "id": "dac07201",
   "metadata": {},
   "outputs": [
    {
     "data": {
      "text/html": [
       "0.0539993390501286"
      ],
      "text/latex": [
       "0.0539993390501286"
      ],
      "text/markdown": [
       "0.0539993390501286"
      ],
      "text/plain": [
       "[1] 0.05399934"
      ]
     },
     "metadata": {},
     "output_type": "display_data"
    }
   ],
   "source": [
    "z=(28-30.2)/(9.6/51^(1/2))\n",
    "p_value=pnorm(z)\n",
    "pt(z, df = 51-1) #for more precise calculation"
   ]
  },
  {
   "cell_type": "raw",
   "id": "5147ac61",
   "metadata": {},
   "source": [
    "b. Meanwhile, the superbowl losing side has scored average 16.1 points across these 51 superbowls. Also, the margin of victory (point difference between the two teams) has a standard deviation of 10.6 points. Can we conclude that (for a conceptual population of all superbowls that could have been played, similar to the way it is defined in part b) the mean victory margin is less than 16 points, at 5% significance level?"
   ]
  },
  {
   "cell_type": "code",
   "execution_count": 66,
   "id": "e3255857",
   "metadata": {},
   "outputs": [
    {
     "data": {
      "text/html": [
       "0.100260723411515"
      ],
      "text/latex": [
       "0.100260723411515"
      ],
      "text/markdown": [
       "0.100260723411515"
      ],
      "text/plain": [
       "[1] 0.1002607"
      ]
     },
     "metadata": {},
     "output_type": "display_data"
    },
    {
     "data": {
      "text/html": [
       "0.10321434541626"
      ],
      "text/latex": [
       "0.10321434541626"
      ],
      "text/markdown": [
       "0.10321434541626"
      ],
      "text/plain": [
       "[1] 0.1032143"
      ]
     },
     "metadata": {},
     "output_type": "display_data"
    }
   ],
   "source": [
    "z=(30.2-16-16.1)/(10.6/51^(1/2))\n",
    "p_value = pnorm(z)\n",
    "p_value\n",
    "\n",
    "pt(z, df = 51-1) #for more precise calculation"
   ]
  },
  {
   "cell_type": "raw",
   "id": "ca05244e",
   "metadata": {},
   "source": [
    "No, we can't conclude that the mean victory margin is less than 16 points at 5% significance level because 0.1>0.05."
   ]
  }
 ],
 "metadata": {
  "kernelspec": {
   "display_name": "R",
   "language": "R",
   "name": "ir"
  },
  "language_info": {
   "codemirror_mode": "r",
   "file_extension": ".r",
   "mimetype": "text/x-r-source",
   "name": "R",
   "pygments_lexer": "r",
   "version": "3.6.1"
  },
  "toc": {
   "base_numbering": 1,
   "nav_menu": {},
   "number_sections": true,
   "sideBar": true,
   "skip_h1_title": false,
   "title_cell": "Table of Contents",
   "title_sidebar": "Contents",
   "toc_cell": false,
   "toc_position": {},
   "toc_section_display": true,
   "toc_window_display": false
  }
 },
 "nbformat": 4,
 "nbformat_minor": 5
}
